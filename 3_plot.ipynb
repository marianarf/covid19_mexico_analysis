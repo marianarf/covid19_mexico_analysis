{
 "cells": [
  {
   "cell_type": "code",
   "execution_count": 1,
   "metadata": {},
   "outputs": [],
   "source": [
    "# An example of building up the structure of a figure as a Python dictionary\n",
    "# and then constructing a graph object figure from that dictionary."
   ]
  },
  {
   "cell_type": "code",
   "execution_count": 2,
   "metadata": {},
   "outputs": [],
   "source": [
    "# https://plotly.com/python/animations/#using-a-slider-and-buttons\n",
    "# https://raw.githubusercontent.com/plotly/datasets/master/gapminderDataFiveYear.csv"
   ]
  },
  {
   "cell_type": "code",
   "execution_count": 3,
   "metadata": {},
   "outputs": [],
   "source": [
    "from datetime import datetime\n",
    "\n",
    "import pandas as pd\n",
    "import plotly.graph_objects as go\n",
    "\n",
    "import plotly.io as pio\n",
    "pio.renderers.default = 'chrome' # https://community.plotly.com/t/plotly-doesnt-load-most-of-the-time/32095/3"
   ]
  },
  {
   "cell_type": "code",
   "execution_count": 4,
   "metadata": {},
   "outputs": [],
   "source": [
    "dataset = pd.read_csv('output_data/rolling-time-series.csv')"
   ]
  },
  {
   "cell_type": "code",
   "execution_count": 5,
   "metadata": {},
   "outputs": [],
   "source": [
    "dataset = dataset.replace(regex=['Australia'], value='Australia')\n",
    "dataset = dataset.replace(regex=['India'], value='India')\n",
    "dataset = dataset.replace(regex=['Italy'], value='Italia')\n",
    "dataset = dataset.replace(regex=['Korea, South'], value='Corea del Sur')\n",
    "dataset = dataset.replace(regex=['Mexico'], value='México')\n",
    "dataset = dataset.replace(regex=['Switzerland'], value='Suiza')\n",
    "dataset = dataset.replace(regex=['United Kingdom'], value='Reino Unido')\n",
    "dataset = dataset.replace(regex=['US'], value='USA')"
   ]
  },
  {
   "cell_type": "code",
   "execution_count": 6,
   "metadata": {},
   "outputs": [],
   "source": [
    "dataset['Date_Confirmed'] = dataset['Date_Confirmed'].apply(lambda x: datetime.strptime(x, '%Y-%m-%d'))"
   ]
  },
  {
   "cell_type": "code",
   "execution_count": 7,
   "metadata": {},
   "outputs": [],
   "source": [
    "import janitor\n",
    "dataset = dataset.filter_date('Date_Confirmed','2020-02-01','2022-12-31')"
   ]
  },
  {
   "cell_type": "code",
   "execution_count": 8,
   "metadata": {},
   "outputs": [],
   "source": [
    "# Make list of regions\n",
    "\n",
    "regions = []\n",
    "\n",
    "for region in dataset['Region']:\n",
    "    if region not in regions:\n",
    "        regions.append(region)"
   ]
  },
  {
   "cell_type": "code",
   "execution_count": 9,
   "metadata": {},
   "outputs": [],
   "source": [
    "years = sorted(list(set(dataset['Date_Confirmed'])))"
   ]
  },
  {
   "cell_type": "code",
   "execution_count": 10,
   "metadata": {},
   "outputs": [],
   "source": [
    "filled_df = []\n",
    "\n",
    "for region in regions:\n",
    "    for year in years:\n",
    "        dataset_by_year = dataset[dataset['Date_Confirmed'] == year]\n",
    "        dataset_by_year_and_region = dataset_by_year[dataset_by_year['Region'] == region]\n",
    "        if len(dataset_by_year_and_region) == 0:\n",
    "            dataset_by_year_less = dataset[dataset['Date_Confirmed'] < year]\n",
    "            dataset_by_year_and_region_less = dataset_by_year_less[dataset_by_year_less['Region'] == region]\n",
    "            if len(dataset_by_year_and_region_less) == 0:\n",
    "                filled_df.append({'Date_Confirmed': year, 'Region': region, 'total':0, 'daily':0})\n",
    "            else:\n",
    "                last_dict = dataset_by_year_and_region_less.iloc[0].to_dict()\n",
    "                last_dict['Date_Confirmed'] = year\n",
    "                filled_df.append(last_dict)\n",
    "        else:\n",
    "            filled_df.append(dataset_by_year_and_region.iloc[0].to_dict())"
   ]
  },
  {
   "cell_type": "code",
   "execution_count": 11,
   "metadata": {},
   "outputs": [],
   "source": [
    "dataset = pd.DataFrame(filled_df)"
   ]
  },
  {
   "cell_type": "code",
   "execution_count": 12,
   "metadata": {},
   "outputs": [
    {
     "data": {
      "text/plain": [
       "1767161.0"
      ]
     },
     "execution_count": 12,
     "metadata": {},
     "output_type": "execute_result"
    }
   ],
   "source": [
    "dataset['total'].max()"
   ]
  },
  {
   "cell_type": "code",
   "execution_count": 13,
   "metadata": {},
   "outputs": [
    {
     "data": {
      "text/plain": [
       "31578.0"
      ]
     },
     "execution_count": 13,
     "metadata": {},
     "output_type": "execute_result"
    }
   ],
   "source": [
    "dataset['daily'].max()"
   ]
  },
  {
   "cell_type": "code",
   "execution_count": 14,
   "metadata": {},
   "outputs": [
    {
     "data": {
      "text/html": [
       "<div>\n",
       "<style scoped>\n",
       "    .dataframe tbody tr th:only-of-type {\n",
       "        vertical-align: middle;\n",
       "    }\n",
       "\n",
       "    .dataframe tbody tr th {\n",
       "        vertical-align: top;\n",
       "    }\n",
       "\n",
       "    .dataframe thead th {\n",
       "        text-align: right;\n",
       "    }\n",
       "</style>\n",
       "<table border=\"1\" class=\"dataframe\">\n",
       "  <thead>\n",
       "    <tr style=\"text-align: right;\">\n",
       "      <th></th>\n",
       "      <th>Date_Confirmed</th>\n",
       "      <th>Region</th>\n",
       "      <th>total</th>\n",
       "      <th>daily</th>\n",
       "    </tr>\n",
       "  </thead>\n",
       "  <tbody>\n",
       "    <tr>\n",
       "      <td>979</td>\n",
       "      <td>2020-05-29</td>\n",
       "      <td>México</td>\n",
       "      <td>74884.0</td>\n",
       "      <td>3157.0</td>\n",
       "    </tr>\n",
       "    <tr>\n",
       "      <td>980</td>\n",
       "      <td>2020-05-30</td>\n",
       "      <td>México</td>\n",
       "      <td>77978.0</td>\n",
       "      <td>3094.0</td>\n",
       "    </tr>\n",
       "    <tr>\n",
       "      <td>981</td>\n",
       "      <td>2020-05-31</td>\n",
       "      <td>México</td>\n",
       "      <td>81127.0</td>\n",
       "      <td>3149.0</td>\n",
       "    </tr>\n",
       "    <tr>\n",
       "      <td>982</td>\n",
       "      <td>2020-06-01</td>\n",
       "      <td>México</td>\n",
       "      <td>84317.0</td>\n",
       "      <td>3190.0</td>\n",
       "    </tr>\n",
       "    <tr>\n",
       "      <td>983</td>\n",
       "      <td>2020-06-02</td>\n",
       "      <td>México</td>\n",
       "      <td>87570.0</td>\n",
       "      <td>3252.0</td>\n",
       "    </tr>\n",
       "  </tbody>\n",
       "</table>\n",
       "</div>"
      ],
      "text/plain": [
       "    Date_Confirmed  Region    total   daily\n",
       "979     2020-05-29  México  74884.0  3157.0\n",
       "980     2020-05-30  México  77978.0  3094.0\n",
       "981     2020-05-31  México  81127.0  3149.0\n",
       "982     2020-06-01  México  84317.0  3190.0\n",
       "983     2020-06-02  México  87570.0  3252.0"
      ]
     },
     "execution_count": 14,
     "metadata": {},
     "output_type": "execute_result"
    }
   ],
   "source": [
    "dataset.tail()"
   ]
  },
  {
   "cell_type": "code",
   "execution_count": 15,
   "metadata": {},
   "outputs": [
    {
     "data": {
      "text/plain": [
       "10"
      ]
     },
     "execution_count": 15,
     "metadata": {},
     "output_type": "execute_result"
    }
   ],
   "source": [
    "len(str(dataset['total'].max()))+1"
   ]
  },
  {
   "cell_type": "code",
   "execution_count": 16,
   "metadata": {},
   "outputs": [],
   "source": [
    "fig_dict = {\n",
    "  'data': [],\n",
    "  'layout': {},\n",
    "  'frames': []\n",
    "}"
   ]
  },
  {
   "cell_type": "code",
   "execution_count": 17,
   "metadata": {},
   "outputs": [],
   "source": [
    "fig_dict['layout']['title'] = {\n",
    "  'text': 'Trayectoria global de COVID-19',\n",
    "  'y': 0.9,\n",
    "  'x': 0.5,\n",
    "  'xanchor': 'center',\n",
    "  'yanchor': 'top'\n",
    "}\n",
    "fig_dict['layout']['xaxis'] = {\n",
    "  'title': 'Casos Totales (log)',\n",
    "  'type': 'log',\n",
    "  'range': [0, 6]\n",
    "}\n",
    "fig_dict['layout']['yaxis'] = {\n",
    "  'title': 'Casos Nuevos (log)',\n",
    "  'type': 'log',\n",
    "  'range': [0, 6]\n",
    "}\n",
    "fig_dict['layout']['hovermode'] = 'closest'\n",
    "fig_dict['layout']['sliders'] = {\n",
    "  'args': [\n",
    "    'transition', {\n",
    "      'duration': 200,\n",
    "      'easing': 'cubic-in-out'\n",
    "    }\n",
    "  ],\n",
    "  'initialValue': datetime.strptime('10-03-2020', '%d-%m-%Y').isoformat().split('T')[0],\n",
    "  'plotlycommand': 'animate',\n",
    "  'values': years,\n",
    "  'visible': True\n",
    "}\n",
    "fig_dict['layout']['updatemenus'] = [{\n",
    "  'buttons': [{\n",
    "      'args': [None, {\n",
    "        'frame': {\n",
    "          'duration': 500,\n",
    "          'redraw': False\n",
    "        },\n",
    "        'fromcurrent': True,\n",
    "        'transition': {\n",
    "          'duration': 300,\n",
    "          'easing': 'quadratic-in-out'\n",
    "        }\n",
    "      }],\n",
    "      'label': 'Play',\n",
    "      'method': 'animate'\n",
    "    },\n",
    "    {\n",
    "      'args': [\n",
    "        [None], {\n",
    "          'frame': {\n",
    "            'duration': 0,\n",
    "            'redraw': False\n",
    "          },\n",
    "          'mode': 'immediate',\n",
    "          'transition': {\n",
    "            'duration': 0\n",
    "          }\n",
    "        }\n",
    "      ],\n",
    "      'label': 'Pause',\n",
    "      'method': 'animate'\n",
    "    }\n",
    "  ],\n",
    "  'direction': 'left',\n",
    "  'pad': {\n",
    "    'r': 10,\n",
    "    't': 30,\n",
    "  },\n",
    "  'showactive': True,\n",
    "  'type': 'buttons',\n",
    "  'x': 0.1,\n",
    "  'xanchor': 'right',\n",
    "  'y': 0,\n",
    "  'yanchor': 'top'\n",
    "}]"
   ]
  },
  {
   "cell_type": "code",
   "execution_count": 18,
   "metadata": {},
   "outputs": [],
   "source": [
    "sliders_dict = {\n",
    "  'active': 0,\n",
    "  'yanchor': 'top',\n",
    "  'xanchor': 'left',\n",
    "  'currentvalue': {\n",
    "    'font': {\n",
    "      'size': 15\n",
    "    },\n",
    "    'prefix': 'Fecha:',\n",
    "    'visible': True,\n",
    "    'xanchor': 'right'\n",
    "  },\n",
    "  'transition': {\n",
    "    'duration': 300,\n",
    "    'easing': 'cubic-in-out'\n",
    "  },\n",
    "  'pad': {\n",
    "    'r': 0,\n",
    "    't': 50,\n",
    "  },\n",
    "  'len': 1,\n",
    "  'steps': []\n",
    "}"
   ]
  },
  {
   "cell_type": "code",
   "execution_count": 19,
   "metadata": {},
   "outputs": [],
   "source": [
    "year = datetime.strptime('2020-03-10', '%Y-%m-%d')\n",
    "\n",
    "for region in regions:\n",
    "    \n",
    "    dataset_by_year = dataset[dataset['Date_Confirmed'] == year]\n",
    "    dataset_by_year_and_region = dataset_by_year[dataset_by_year['Region'] == region]\n",
    "    \n",
    "    line_color = 'red' if region == 'México' else '#A9A9A9'\n",
    "    \n",
    "    data_dict = {\n",
    "        'x': list(dataset_by_year_and_region['total']),\n",
    "        'y': list(dataset_by_year_and_region['daily']),\n",
    "        'mode': 'lines',\n",
    "        'text': list(dataset_by_year_and_region['Region']),\n",
    "        'line_color': line_color,\n",
    "        #'hoverinfo': 'none',\n",
    "    }\n",
    "    \n",
    "    data_dict_2 = {\n",
    "        'x': list(dataset_by_year_and_region['total']),\n",
    "        'y': list(dataset_by_year_and_region['daily']),\n",
    "        'mode': 'lines',\n",
    "        'text': list(dataset_by_year_and_region['Region']),\n",
    "        'line_color': line_color,\n",
    "        #'hoverinfo': 'none',\n",
    "    }\n",
    "    \n",
    "    fig_dict['data'].append(data_dict)\n",
    "    fig_dict['data'].append(data_dict_2)"
   ]
  },
  {
   "cell_type": "code",
   "execution_count": 20,
   "metadata": {},
   "outputs": [],
   "source": [
    "# Make frames"
   ]
  },
  {
   "cell_type": "code",
   "execution_count": 21,
   "metadata": {},
   "outputs": [],
   "source": [
    "for y, year in enumerate(years):\n",
    "    \n",
    "    frame = {'data': [], 'name': str(year.isoformat().split('T')[0])}\n",
    "    frame_2 = frame.copy()\n",
    "    \n",
    "    dataset_by_year = dataset[dataset['Date_Confirmed'] <= year]\n",
    "    \n",
    "    for region in regions:\n",
    "        dataset_by_year_and_region = dataset_by_year[\n",
    "            dataset_by_year['Region'] == region]\n",
    "        \n",
    "        line_color = 'red' if region == 'México' else '#A9A9A9'\n",
    "            \n",
    "        data_dict = {\n",
    "                    'x': list(dataset_by_year_and_region['total']),\n",
    "                    'y': list(dataset_by_year_and_region['daily']),\n",
    "                    'mode': 'lines',\n",
    "                    'text': list(dataset_by_year_and_region['Region']),\n",
    "                    'textposition': 'bottom center',\n",
    "                    'name': region,\n",
    "                    'line_color': line_color,\n",
    "                    #'hoverinfo': 'none',\n",
    "            }\n",
    "        \n",
    "        data_dict_2 = {\n",
    "                    'x': [list(dataset_by_year_and_region['total'])[-1]],\n",
    "                    'y': [list(dataset_by_year_and_region['daily'])[-1]],\n",
    "                    'mode': 'markers+text',\n",
    "                    'text': [list(dataset_by_year_and_region['Region'])[-1]],\n",
    "                    'textposition': 'bottom center',\n",
    "                    'name': region,\n",
    "                    'line_color': line_color,\n",
    "                    #'hoverinfo': 'none',\n",
    "            }\n",
    "        \n",
    "        frame['data'].append(data_dict)\n",
    "        frame['data'].append(data_dict_2)\n",
    "        \n",
    "    fig_dict['frames'].append(frame)\n",
    "    \n",
    "    slider_step = {'args': [\n",
    "        [year.isoformat().split('T')[0]],\n",
    "        {'frame': {'duration': 200, 'redraw': True},\n",
    "         'mode': 'immediate',\n",
    "         'transition': {'duration': 200}}\n",
    "    ],\n",
    "        'label': year.isoformat().split('T')[0],\n",
    "        'method': 'animate'}\n",
    "    \n",
    "    sliders_dict['steps'].append(slider_step)\n",
    "    \n",
    "fig_dict['layout']['sliders'] = [sliders_dict]"
   ]
  },
  {
   "cell_type": "code",
   "execution_count": 22,
   "metadata": {},
   "outputs": [],
   "source": [
    "fig = go.Figure(fig_dict)\n",
    "\n",
    "fig.show()"
   ]
  },
  {
   "cell_type": "code",
   "execution_count": 23,
   "metadata": {},
   "outputs": [],
   "source": [
    "# 'hovertemplate': 'Nuevos casos: %{y:.0f}</br>Casos Totales: %{x:.0f}<extra></extra>'"
   ]
  },
  {
   "cell_type": "code",
   "execution_count": 24,
   "metadata": {},
   "outputs": [],
   "source": [
    "# fig_dict['frames'][-1]"
   ]
  },
  {
   "cell_type": "code",
   "execution_count": 25,
   "metadata": {},
   "outputs": [],
   "source": [
    "# https://plotly.com/python/interactive-html-export/\n",
    "fig.write_html('plot.html')"
   ]
  },
  {
   "cell_type": "code",
   "execution_count": null,
   "metadata": {},
   "outputs": [],
   "source": []
  }
 ],
 "metadata": {
  "kernelspec": {
   "display_name": "Python 3",
   "language": "python",
   "name": "python3"
  },
  "language_info": {
   "codemirror_mode": {
    "name": "ipython",
    "version": 3
   },
   "file_extension": ".py",
   "mimetype": "text/x-python",
   "name": "python",
   "nbconvert_exporter": "python",
   "pygments_lexer": "ipython3",
   "version": "3.7.4"
  }
 },
 "nbformat": 4,
 "nbformat_minor": 4
}
