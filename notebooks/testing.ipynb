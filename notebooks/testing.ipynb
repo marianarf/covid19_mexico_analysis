{
 "cells": [
  {
   "cell_type": "code",
   "execution_count": 1,
   "metadata": {},
   "outputs": [
    {
     "name": "stdout",
     "output_type": "stream",
     "text": [
      "max hosp 3.2023333333333333\n"
     ]
    },
    {
     "data": {
      "text/plain": [
       "<Figure size 900x700 with 3 Axes>"
      ]
     },
     "metadata": {},
     "output_type": "display_data"
    },
    {
     "data": {
      "text/plain": [
       "<Figure size 800x600 with 1 Axes>"
      ]
     },
     "metadata": {},
     "output_type": "display_data"
    }
   ],
   "source": [
    "import numpy as np\n",
    "from scipy.integrate import odeint\n",
    "import matplotlib.pyplot as plt\n",
    "import seaborn as sns\n",
    "\n",
    "# Total population, N.\n",
    "N = 126e2\n",
    "# Initial number of infected and recovered individuals, I0 and R0.\n",
    "I0, Q0, R0 = 117328, 84419, 0\n",
    "# Everyone else, S0, is susceptible to infection initially.\n",
    "S0 = N - I0 - R0 - Q0\n",
    "# Contact rate, beta, and mean recovery rate, gamma, (in 1/days).\n",
    "beta, gamma = 1./6, 1./15 \n",
    "# A grid of time points (in days)\n",
    "t = np.linspace(0, 365, 365)\n",
    "# The SIR model differential equations.\n",
    "Ntest = 1e6\n",
    "f = 30.0\n",
    "posrate = 0.8\n",
    "hosprate = 0.20\n",
    "\n",
    "def deriv(y, t, N, beta, gamma):\n",
    "    S, I, Q, R = y\n",
    "    dSdt = -beta * S * I / N\n",
    "    dIdt = beta * S * I / N - Ntest* f*posrate* I/N - gamma * I\n",
    "    dQdt = Ntest* f*posrate* I/N - gamma * Q\n",
    "    dRdt = gamma * (I+Q)\n",
    "    return dSdt, dIdt, dQdt, dRdt\n",
    "\n",
    "# Initial conditions vector\n",
    "y0 = S0, I0, Q0, R0\n",
    "\n",
    "# Integrate the SIR equations over the time grid, t.\n",
    "ret = odeint(deriv, y0, t, args=(N, beta, gamma))\n",
    "S, I, Q, R = ret.T\n",
    "print('max hosp {}'.format(np.max(hosprate*(I+Q)/N)))\n",
    "\n",
    "# Plot the data on three separate curves for S(t), I(t) and R(t)\n",
    "fig, axarr = plt.subplots(3, 1, sharex=True, figsize=(9,7)) #facecolor='w')\n",
    "fs = 12\n",
    "\n",
    "# plot total cases\n",
    "axarr[0].plot(t, R/N*100, 'g', alpha=0.5, lw=2, label='Cumulated Cases')\n",
    "axarr[1].set_ylabel('% of Population', fontsize=fs)\n",
    "axarr[0].set_ylim(0,33)\n",
    "legend = axarr[0].legend(loc=4, fontsize=fs)\n",
    "# plot infected\n",
    "axarr[1].plot(t, I/N*100, 'r', alpha=0.5, lw=2, label='Infected and active')\n",
    "#axarr[1].plot(t, Q/N*100, 'm', alpha=0.5, lw=2, label='Infected and quarantined')\n",
    "axarr[0].set_ylabel('% of Population', fontsize=fs)\n",
    "axarr[1].set_ylim(0,1.6)\n",
    "axarr[1].legend(loc=1, fontsize=fs)\n",
    "# hospitalized\n",
    "axarr[2].plot(t, hosprate*(I+Q)/N*100, 'b', linestyle='-', alpha=0.5, lw=2, label='Hospitalized')\n",
    "axarr[2].set_xlabel('Time (days)', fontsize=fs)\n",
    "axarr[2].set_ylabel('% of Population', fontsize=fs)\n",
    "axarr[2].legend(loc=1, fontsize=fs)\n",
    "axarr[2].set_ylim(0,.7)\n",
    "axarr[2].axvline(np.argmax(hosprate*(I+Q)/N*100), linestyle='--', color='k')\n",
    "axarr[2].axhline(np.max(hosprate*(I+Q)/N*100), linestyle='--', color='k', label = 'max load')\n",
    "axarr[2].legend(loc='center right', fontsize=fs)\n",
    "fig.suptitle('Results with 30m naive tests or 1m targeted tests (f=30)', fontsize=18)\n",
    "fig.tight_layout(rect=[0, 0.03, 1, 0.96])\n",
    "plt.show()\n",
    "\n",
    "def maxhosp(Ntest, f=1.0):\n",
    "    # Total population, N.\n",
    "    N = 126e2\n",
    "    # Initial number of infected and recovered individuals, I0 and R0.\n",
    "    I0, Q0, R0 = 117328, 84419, 0\n",
    "    # Everyone else, S0, is susceptible to infection initially.\n",
    "    S0 = N - I0 - R0 - Q0\n",
    "    # Contact rate, beta, and mean recovery rate, gamma, (in 1/days).\n",
    "    beta, gamma = 1./6.0, 1.0/15.0 \n",
    "    # A grid of time points (in days)\n",
    "    t = np.linspace(0, 365, 365)\n",
    "    # The SIR model differential equations.\n",
    "    posrate = 0.6\n",
    "    hosprate = 0.20\n",
    "    def deriv(y, t, N, beta, gamma):\n",
    "        S, I, Q, R = y\n",
    "        dSdt = -beta * S * I / N\n",
    "        dIdt = beta * S * I / N - Ntest* f*posrate* I/N - gamma * I\n",
    "        dQdt = Ntest* f*posrate* I/N - gamma * Q\n",
    "        dRdt = gamma * (I+Q)\n",
    "        return dSdt, dIdt, dQdt, dRdt\n",
    "    \n",
    "    # Initial conditions vector\n",
    "    y0 = S0, I0, Q0, R0\n",
    "    \n",
    "    # Integrate the SIR equations over the time grid, t.\n",
    "    ret = odeint(deriv, y0, t, args=(N, beta, gamma))\n",
    "    S, I, Q, R = ret.T\n",
    "    return np.max(hosprate*(I+Q)/N)\n",
    "\n",
    "ntests = np.logspace(3, np.log10(20e6), 300.0)\n",
    "sims1 = [maxhosp(n, f=1.0) for n in ntests]\n",
    "sims3 = [maxhosp(n, f=3.0) for n in ntests]\n",
    "sims10 = [maxhosp(n, f=10.0) for n in ntests]\n",
    "sims30 = [maxhosp(n, f=30.0) for n in ntests]\n",
    "\n",
    "# plot in frac of population\n",
    "fig, ax = plt.subplots(figsize=(8,6))\n",
    "ax.axhline(1, color='r', lw=4, linestyle='-', label='#beds in Mexico')\n",
    "ax.plot(ntests/1e6, np.array(sims1)*N/1e6, lw=3, label='$f=1.0$')\n",
    "#ax.plot(ntests/1e6, np.array(sims3)*N/1e6, lw=3, label='$f=3.0$')\n",
    "ax.plot(ntests/1e6, np.array(sims10)*N/1e6, lw=3, label='$f=10.0$')\n",
    "ax.plot(ntests/1e6, np.array(sims30)*N/1e6, lw=3, label='$f=30.0$', color='m')\n",
    "ax.set_ylabel('Peak Hospitalized in Millions', fontsize=fs)\n",
    "ax.set_xlabel('Tests in Millions per Day', fontsize=fs)\n",
    "ax.set_title('Peak hospitalization depends on\\nnumber of tests and how targeted they are', fontsize=18)\n",
    "ax.legend(fontsize=fs, loc='center left', bbox_to_anchor=(1, 0.5))\n",
    "ax.set_xlim((0,10))\n",
    "ax.set_ylim((0,16))\n",
    "plt.show()"
   ]
  },
  {
   "cell_type": "code",
   "execution_count": null,
   "metadata": {},
   "outputs": [],
   "source": []
  }
 ],
 "metadata": {
  "kernelspec": {
   "display_name": "Python 3",
   "language": "python",
   "name": "python3"
  },
  "language_info": {
   "codemirror_mode": {
    "name": "ipython",
    "version": 3
   },
   "file_extension": ".py",
   "mimetype": "text/x-python",
   "name": "python",
   "nbconvert_exporter": "python",
   "pygments_lexer": "ipython3",
   "version": "3.7.4"
  }
 },
 "nbformat": 4,
 "nbformat_minor": 4
}
